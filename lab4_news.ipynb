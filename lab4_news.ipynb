{
 "cells": [
  {
   "cell_type": "markdown",
   "metadata": {},
   "source": [
    "# Laboratorium 4 - rekomendacje dla portali informacyjnych\n",
    "\n",
    "## Przygotowanie\n",
    "\n",
    " * pobierz i wypakuj dataset: https://mind201910small.blob.core.windows.net/release/MINDsmall_train.zip\n",
    "   * więcej możesz poczytać tutaj: https://learn.microsoft.com/en-us/azure/open-datasets/dataset-microsoft-news\n",
    " * [opcjonalnie] Utwórz wirtualne środowisko\n",
    " `python3 -m venv ./recsyslab4`\n",
    " * zainstaluj potrzebne biblioteki:\n",
    " `pip install nltk sklearn`"
   ]
  },
  {
   "cell_type": "markdown",
   "metadata": {},
   "source": [
    "## Część 1. - przygotowanie danych"
   ]
  },
  {
   "cell_type": "code",
   "execution_count": 71,
   "metadata": {},
   "outputs": [
    {
     "name": "stderr",
     "output_type": "stream",
     "text": [
      "[nltk_data] Downloading package stopwords to\n",
      "[nltk_data]     /home/przemek/nltk_data...\n",
      "[nltk_data]   Package stopwords is already up-to-date!\n",
      "[nltk_data] Downloading package punkt to /home/przemek/nltk_data...\n",
      "[nltk_data]   Package punkt is already up-to-date!\n"
     ]
    }
   ],
   "source": [
    "# importujemy wszystkie potrzebne pakiety\n",
    "\n",
    "import codecs\n",
    "from collections import (\n",
    "    defaultdict,\n",
    ")  # mozesz uzyc zamiast zwyklego slownika, rozwaz wplyw na czas obliczen\n",
    "import math\n",
    "import re\n",
    "from string import punctuation\n",
    "\n",
    "import nltk\n",
    "\n",
    "nltk.download(\"stopwords\")\n",
    "nltk.download(\"punkt\")\n",
    "from nltk.tokenize import word_tokenize\n",
    "from nltk.corpus import stopwords\n",
    "from nltk.stem import RSLPStemmer\n",
    "from nltk.stem import WordNetLemmatizer\n",
    "from nltk.stem.lancaster import LancasterStemmer\n",
    "from nltk.stem.porter import PorterStemmer\n",
    "from nltk.stem.snowball import SnowballStemmer\n",
    "\n",
    "# mozesz uzyc do obliczania najbardziej podobnych tekstow zamiast liczenia \"na piechote\"\n",
    "# ale pamietaj o dostosowaniu formatu danych\n",
    "from sklearn.neighbors import NearestNeighbors"
   ]
  },
  {
   "cell_type": "code",
   "execution_count": 72,
   "metadata": {},
   "outputs": [],
   "source": [
    "# definiujemy potrzebne zmienne\n",
    "\n",
    "PATH = \"./MINDsmall_train\"\n",
    "STOPWORDS = set(stopwords.words(\"english\"))"
   ]
  },
  {
   "cell_type": "code",
   "execution_count": 73,
   "metadata": {},
   "outputs": [
    {
     "name": "stdout",
     "output_type": "stream",
     "text": [
      "51282\n"
     ]
    }
   ],
   "source": [
    "# wczytujemy metadane artykułów\n",
    "\n",
    "\n",
    "def parse_news_entry(entry):\n",
    "    news_id, category, subcategory, title, abstract = entry.split(\"\\t\")[:5]\n",
    "    return {\n",
    "        \"news_id\": news_id,\n",
    "        \"category\": category,\n",
    "        \"subcategory\": subcategory,\n",
    "        \"title\": title,\n",
    "        \"abstract\": abstract,\n",
    "    }\n",
    "\n",
    "\n",
    "def get_news_metadata():\n",
    "    with codecs.open(f\"{PATH}/news.tsv\", \"r\", \"UTF-8\") as f:\n",
    "        raw = [x for x in f.read().split(\"\\n\") if x]\n",
    "        parsed_entries = [parse_news_entry(entry) for entry in raw]\n",
    "        return {x[\"news_id\"]: x for x in parsed_entries}\n",
    "\n",
    "\n",
    "news = get_news_metadata()\n",
    "news_ids = sorted(list(news.keys()))\n",
    "news_indices = {x[1]: x[0] for x in enumerate(news_ids)}\n",
    "print(len(news))"
   ]
  },
  {
   "cell_type": "markdown",
   "metadata": {},
   "source": [
    "## Część 2. - TF-IDF"
   ]
  },
  {
   "cell_type": "code",
   "execution_count": 74,
   "metadata": {},
   "outputs": [],
   "source": [
    "# normalizujemy teksty na potrzeby dalszego przetwarzania\n",
    "\n",
    "\n",
    "def preprocess_text(text):\n",
    "    # usuwamy znaki interpunkcyjne\n",
    "    regex = re.compile(\"[%s]\" % re.escape(punctuation))\n",
    "    text = regex.sub(\"\", text)\n",
    "\n",
    "    # usuwamy wszystkie liczby\n",
    "    text = re.sub(\"^\\d+\\s|\\s\\d+\\s|\\s\\d+$\", \" \", text)\n",
    "\n",
    "    # podmieniamy wszystkie wielkie litery\n",
    "    text = text.lower()\n",
    "\n",
    "    # dzielimy na tokeny\n",
    "    word_tokens = word_tokenize(text)\n",
    "    # usuwamy stopwords\n",
    "    text = \" \".join([w for w in word_tokens if w not in STOPWORDS])\n",
    "    # zamieniamy wszystkie ciagi bialych znakow na pojedyncze spacje\n",
    "    _RE_COMBINE_WHITESPACE = re.compile(r\"\\s+\")\n",
    "    text = _RE_COMBINE_WHITESPACE.sub(\" \", text).strip()\n",
    "\n",
    "    return text.split()\n",
    "\n",
    "\n",
    "def stem_texts(corpus):\n",
    "    stemmer = PorterStemmer()\n",
    "    return [[stemmer.stem(word) for word in preprocess_text(text)] for text in corpus]\n",
    "\n",
    "\n",
    "texts = [news[news_id][\"abstract\"] for news_id in news_ids]\n",
    "stemmed_texts = stem_texts(texts)"
   ]
  },
  {
   "cell_type": "code",
   "execution_count": 75,
   "metadata": {},
   "outputs": [
    {
     "name": "stdout",
     "output_type": "stream",
     "text": [
      "\"I think we have a really good team, and a team that can really do some special, good things because that group is very close in there.\" - Brian Schmetzer\n",
      "\n",
      "think realli good team team realli special good thing group close brian schmetzer\n"
     ]
    }
   ],
   "source": [
    "# porownajmy teksty przed i po przetworzeniu\n",
    "\n",
    "print(texts[2] + \"\\n\")\n",
    "print(\" \".join(stemmed_texts[2]))"
   ]
  },
  {
   "cell_type": "code",
   "execution_count": 76,
   "metadata": {},
   "outputs": [
    {
     "name": "stdout",
     "output_type": "stream",
     "text": [
      "44023\n"
     ]
    }
   ],
   "source": [
    "# tworzymy liste wszystkich slow w korpusie\n",
    "\n",
    "\n",
    "def get_all_words_sorted(corpus):\n",
    "    wordlist = set()\n",
    "    for text in corpus:\n",
    "        for word in text:\n",
    "            wordlist.add(word)\n",
    "\n",
    "    return sorted(list(wordlist))\n",
    "\n",
    "\n",
    "wordlist = get_all_words_sorted(stemmed_texts)\n",
    "word_indices = {x[1]: x[0] for x in enumerate(wordlist)}\n",
    "print(len(wordlist))"
   ]
  },
  {
   "cell_type": "code",
   "execution_count": 77,
   "metadata": {},
   "outputs": [],
   "source": [
    "# obliczamy liczbe tekstow, w ktorych wystapilo kazde ze slow\n",
    "# pamietaj, ze jesli slowo wystapilo w danym tekscie wielokrotnie, to liczymy je tylko raz\n",
    "\n",
    "\n",
    "def get_document_frequencies(corpus, wordlist):\n",
    "    doc_freq = {word: 0 for word in wordlist}\n",
    "\n",
    "    for text in corpus:\n",
    "        text_wordlist = set(text)\n",
    "        for word in text_wordlist:\n",
    "            doc_freq[word] += 1\n",
    "\n",
    "    return doc_freq\n",
    "\n",
    "\n",
    "document_frequency = get_document_frequencies(stemmed_texts, wordlist)"
   ]
  },
  {
   "cell_type": "code",
   "execution_count": 78,
   "metadata": {},
   "outputs": [],
   "source": [
    "# obliczamy liczbe wystapien kazdego slowa w kazdym tekscie\n",
    "\n",
    "\n",
    "def get_term_frequencies(corpus, news_indices):\n",
    "    term_freq = {news_id: defaultdict(lambda: 0) for news_id in news_indices.keys()}\n",
    "\n",
    "    for idx, (text, news_id) in enumerate(zip(corpus, news_indices.keys())):\n",
    "        for word in text:\n",
    "            term_freq[news_id][word] += 1\n",
    "\n",
    "    return term_freq\n",
    "\n",
    "\n",
    "term_frequency = get_term_frequencies(stemmed_texts, news_indices)"
   ]
  },
  {
   "cell_type": "code",
   "execution_count": 79,
   "metadata": {},
   "outputs": [
    {
     "data": {
      "text/plain": [
       "defaultdict(<function __main__.get_term_frequencies.<locals>.<dictcomp>.<lambda>()>,\n",
       "            {'think': 1,\n",
       "             'realli': 2,\n",
       "             'good': 2,\n",
       "             'team': 2,\n",
       "             'special': 1,\n",
       "             'thing': 1,\n",
       "             'group': 1,\n",
       "             'close': 1,\n",
       "             'brian': 1,\n",
       "             'schmetzer': 1})"
      ]
     },
     "execution_count": 79,
     "metadata": {},
     "output_type": "execute_result"
    }
   ],
   "source": [
    "# sprawdzmy wyniki\n",
    "\n",
    "term_frequency[news_ids[2]]"
   ]
  },
  {
   "cell_type": "code",
   "execution_count": 80,
   "metadata": {},
   "outputs": [],
   "source": [
    "# obliczamy metryke tf_idf\n",
    "\n",
    "\n",
    "def calculate_tf_idf(term_frequency, document_frequency, corpus_size):\n",
    "    tf_idf = {news_id: defaultdict(lambda: 0) for news_id in term_frequency.keys()}\n",
    "\n",
    "    for news_id in term_frequency.keys():\n",
    "        for word in term_frequency[news_id].keys():\n",
    "            tf_idf[news_id][word] = term_frequency[news_id][word] * math.log(\n",
    "                corpus_size / document_frequency[word] + 1\n",
    "            )\n",
    "\n",
    "    return tf_idf\n",
    "\n",
    "\n",
    "tf_idf = calculate_tf_idf(term_frequency, document_frequency, len(news_ids))"
   ]
  },
  {
   "cell_type": "code",
   "execution_count": 81,
   "metadata": {},
   "outputs": [
    {
     "data": {
      "text/plain": [
       "defaultdict(<function __main__.calculate_tf_idf.<locals>.<dictcomp>.<lambda>()>,\n",
       "            {'think': 4.373151488960738,\n",
       "             'realli': 9.72280058058018,\n",
       "             'good': 8.12019624698702,\n",
       "             'team': 6.2481518012360855,\n",
       "             'special': 4.773647302723159,\n",
       "             'thing': 4.127940511650616,\n",
       "             'group': 4.275685924628469,\n",
       "             'close': 3.9439845389396853,\n",
       "             'brian': 5.6283402794893425,\n",
       "             'schmetzer': 9.458878728310335})"
      ]
     },
     "execution_count": 81,
     "metadata": {},
     "output_type": "execute_result"
    }
   ],
   "source": [
    "# sprawdzmy wyniki\n",
    "\n",
    "tf_idf[news_ids[2]]"
   ]
  },
  {
   "cell_type": "markdown",
   "metadata": {},
   "source": [
    "## Część 3. - Podobieństwo tekstów"
   ]
  },
  {
   "cell_type": "code",
   "execution_count": 82,
   "metadata": {},
   "outputs": [
    {
     "data": {
      "text/plain": [
       "0.02529386978912101"
      ]
     },
     "execution_count": 82,
     "metadata": {},
     "output_type": "execute_result"
    }
   ],
   "source": [
    "# obliczmy odleglosc miedzy dwoma artykulami\n",
    "# przetestuj rozne metryki odleglosci i wybierz najlepsza\n",
    "\n",
    "\n",
    "def calculate_distance(tf_idf, id1, id2):\n",
    "    # cosine similarity\n",
    "    sum1 = 0\n",
    "    sum2 = 0\n",
    "    sum3 = 0\n",
    "    for word in tf_idf[id1].keys():\n",
    "        sum1 += tf_idf[id1][word] * tf_idf[id2][word]\n",
    "        sum2 += tf_idf[id1][word] ** 2\n",
    "    for word in tf_idf[id2].keys():\n",
    "        sum3 += tf_idf[id2][word] ** 2\n",
    "\n",
    "    if sum2 == 0 or sum3 == 0:\n",
    "        return 0\n",
    "\n",
    "    return sum1 / (math.sqrt(sum2) * math.sqrt(sum3))\n",
    "\n",
    "\n",
    "calculate_distance(tf_idf, news_ids[2], news_ids[1])"
   ]
  },
  {
   "cell_type": "code",
   "execution_count": 83,
   "metadata": {},
   "outputs": [
    {
     "data": {
      "text/plain": [
       "defaultdict(<function __main__.calculate_tf_idf.<locals>.<dictcomp>.<lambda>()>,\n",
       "            {})"
      ]
     },
     "execution_count": 83,
     "metadata": {},
     "output_type": "execute_result"
    }
   ],
   "source": [
    "tf_idf[\"N10062\"]"
   ]
  },
  {
   "cell_type": "code",
   "execution_count": 85,
   "metadata": {
    "scrolled": true
   },
   "outputs": [
    {
     "name": "stdout",
     "output_type": "stream",
     "text": [
      "id: N58544, text: A MAN claims he has created a car that might solve the world's traffic congestion problems. Rick Woodbury from Spokane, Washington USA, is the president, founder and sole employee of 'Commuter Cars.' The carmaker's flagship model is the 2005 super slim two-seater Tango T600, a high-performance electric car that preceded Tesla. Rick told BTV: \"I started this company 21 years ago   it was based on an idea that I came up with in 1982.\" He was inspired by the shocking traffic congestion he had to face on a daily basis. \"I used to drive a Porsche from Beverly Hills to Hermosa Beach every day and the traffic was horrendous,\" explained Rick. What really made Rick think about a solution was the fact that in most of the cars he would see in his commute were occupied by lone drivers. \"I noticed that everybody around me was a single occupant in a car, taking up the whole lane,\" Rick said. Living and working in Los Angeles also helped inspire Rick's unique creation. \"I thought, everyone wants to get from point A to point B efficiently, and in cities like Los Angeles there's really no centre, there's no hub, everybody goes everywhere,\" explained Rick. For him, there is a simple solution, and that is reducing the width that vehicles take up on the road so that 2 can fit comfortably in a single lane. \"I don't think there's any other answer except doubling lane capacity,\" said Rick. With a length of 102 inches this micro car can be parked just about anywhere, just like you would with a motorbike. Rick said: \"The length is the same width of a semi-truck so I can park perpendicular to the curb.\"The selling point of this vehicle is that it can drive in-between cars better than any other car. \"The coolest feature for me to that it can get through traffic faster than any car in history,\" said Rick. Much like a motorbike, the Tango T500 can drive right up to the stop line of traffic lights.\n",
      "\n",
      "5 most similar:\n",
      "\n",
      "id: N64287, text: SEBASTIAN COUNTY (KFSM)   Sebastian County Justice of the Peace Rick Reedy passed away suddenly from a heart attack on a hunting trip this past weekend. Karla and Rick Reedy have known each other since they were just teenagers. \"It would have been 45 years. I met him when I was 16 and we got married when I was 18 and so we've been married 42 years,\" Karla said. Not only was Rick a father, ...\n",
      "\n",
      "id: N31628, text: Former Texas Governor Rick Perry is the first member of President Donald Trump's Cabinet asked to appear before the House.\n",
      "\n",
      "id: N61884, text: Former Texas Governor Rick Perry is the first member of President Donald Trump's Cabinet asked to appear before the House.\n",
      "\n",
      "id: N31126, text: Rick Perry and several top Trump administration aides are scheduled to testify in House Democrats' impeachment inquiry\n",
      "\n",
      "id: N51828, text: President Trump to make history as first president to attend parade; Rick Leventhal reports from Manhattan.\n"
     ]
    }
   ],
   "source": [
    "# wyznaczmy k najpodobniejszych tekstow do danego\n",
    "# pamietaj o odpowiedniej kolejnosci sortowania w zaleznosci od wykorzystanej metryki\n",
    "# pamietaj, zeby wsrod podobnych tekstow nie bylo danego\n",
    "\n",
    "\n",
    "def get_k_most_similar_news(tf_idf, n_id, k):\n",
    "    similarities = []\n",
    "    for news_id in tf_idf.keys():\n",
    "        if news_id != n_id:\n",
    "            similarities.append((news_id, calculate_distance(tf_idf, n_id, news_id)))\n",
    "\n",
    "    similarities = sorted(similarities, key=lambda x: x[1], reverse=True)\n",
    "\n",
    "    return list(map(lambda x: x[0], similarities[0:k]))\n",
    "\n",
    "\n",
    "def print_k_most_similar_news(tf_idf, n_id, k, corpus, news_indices):\n",
    "    similar = get_k_most_similar_news(tf_idf, n_id, k)\n",
    "    print(f\"id: {n_id}, text: {corpus[news_indices[n_id]]}\")\n",
    "    print(f\"\\n{k} most similar:\")\n",
    "    for s_id in similar:\n",
    "        print(f\"\\nid: {s_id}, text: {corpus[news_indices[s_id]]}\")\n",
    "\n",
    "\n",
    "print_k_most_similar_news(tf_idf, news_ids[42337], 5, texts, news_indices)"
   ]
  }
 ],
 "metadata": {
  "kernelspec": {
   "display_name": "Python 3 (ipykernel)",
   "language": "python",
   "name": "python3"
  },
  "language_info": {
   "codemirror_mode": {
    "name": "ipython",
    "version": 3
   },
   "file_extension": ".py",
   "mimetype": "text/x-python",
   "name": "python",
   "nbconvert_exporter": "python",
   "pygments_lexer": "ipython3",
   "version": "3.8.10"
  }
 },
 "nbformat": 4,
 "nbformat_minor": 4
}
