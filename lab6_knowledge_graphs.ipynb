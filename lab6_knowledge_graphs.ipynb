{
 "cells": [
  {
   "cell_type": "markdown",
   "id": "4d18a343-c53e-4e64-8316-f5c1167437c4",
   "metadata": {},
   "source": [
    "# Laboratorium 6 - rekomendacje oparte na grafach wiedzy\n",
    "\n",
    "## Przygotowanie\n",
    "\n",
    " * pobierz i wypakuj dataset: https://www.aicrowd.com/challenges/spotify-million-playlist-dataset-challenge\n",
    "   * na potrzeby drugiej części laboratorium (czyli testowego treningu), na Teamsach macie dostępny podzbiór danych, `a_few_playlists_dataset` - nie wystarczy on jednak do wykonania trzeciej części (i tym samym do oddania laboratorium)\n",
    " * [opcjonalnie] Utwórz wirtualne środowisko\n",
    " `python3 -m venv ./recsyslab6`\n",
    " * zainstaluj potrzebne biblioteki:\n",
    " `pip install numpy pandas pykeen tqdm seaborn`"
   ]
  },
  {
   "cell_type": "markdown",
   "id": "d19a763f-eb56-4085-ac43-6d7a1a0cb520",
   "metadata": {},
   "source": [
    "## Część 1. - przygotowanie danych"
   ]
  },
  {
   "cell_type": "code",
   "execution_count": 19,
   "id": "1e62e94d-9961-4d5e-a264-745b5177ed5e",
   "metadata": {},
   "outputs": [],
   "source": [
    "import json\n",
    "import matplotlib.pyplot as plt\n",
    "import numpy as np\n",
    "from tqdm import tqdm\n",
    "import random\n",
    "\n",
    "from pykeen.models import TransR, RESCAL, PairRE\n",
    "from pykeen.pipeline import pipeline\n",
    "from pykeen.predict import predict_target\n",
    "from pykeen.triples import TriplesFactory"
   ]
  },
  {
   "cell_type": "code",
   "execution_count": 4,
   "id": "ce4d3db7-5e55-4a11-a45e-79356fd75e8f",
   "metadata": {},
   "outputs": [],
   "source": [
    "# jesli uzywasz datasetu pobranego z Teamsow, uzyj tej komorki zamiast powyzszej\n",
    "# UWAGA - do oddania laboratorium konieczne jest uzycie oficjalnego datasetu Spotify\n",
    "PATH = 'a_few_playlists_dataset'\n",
    "SAMPLING_RATIO = 0.01\n",
    "with open(f'{PATH}/filenames.txt') as fn:\n",
    "    FILENAMES = fn.read().split('\\n')"
   ]
  },
  {
   "cell_type": "code",
   "execution_count": 5,
   "id": "7743626d-5017-4443-809c-f3146bf82298",
   "metadata": {},
   "outputs": [],
   "source": [
    "# funkcje do parsowania playlist\n",
    "def get_id(uri):\n",
    "    return uri.split(':')[-1]\n",
    "\n",
    "def parse_playlist(playlist):\n",
    "    name = playlist['name']\n",
    "    tracks = [get_id(t['track_uri']) for t in playlist['tracks']]\n",
    "    tracks_to_artists = {(get_id(t['track_uri']), get_id(t['artist_uri'])) for t in playlist['tracks']}\n",
    "    tracks_to_albums = {(get_id(t['track_uri']), get_id(t['album_uri'])) for t in playlist['tracks']}\n",
    "    albums_to_artists = {(get_id(t['album_uri']), get_id(t['artist_uri'])) for t in playlist['tracks']}\n",
    "    return name, tracks, tracks_to_artists, tracks_to_albums, albums_to_artists"
   ]
  },
  {
   "cell_type": "code",
   "execution_count": 6,
   "id": "475e2848-3c30-4173-98dc-272fb86e4690",
   "metadata": {},
   "outputs": [
    {
     "name": "stderr",
     "output_type": "stream",
     "text": [
      "100%|██████████| 10/10 [00:06<00:00,  1.58it/s]"
     ]
    },
    {
     "name": "stdout",
     "output_type": "stream",
     "text": [
      "Got: 10,000 playlists; 175,992 tracks; 84,206 albums; 36,844 artists\n"
     ]
    },
    {
     "name": "stderr",
     "output_type": "stream",
     "text": [
      "\n"
     ]
    }
   ],
   "source": [
    "# parsing\n",
    "playlists = []\n",
    "tracks = set()\n",
    "tracks_to_artists = set()\n",
    "tracks_to_albums = set()\n",
    "albums_to_artists = set()\n",
    "\n",
    "for filename in tqdm(FILENAMES):\n",
    "    with open(f'{PATH}/{filename}') as mpd_chunk:\n",
    "        for playlist in json.loads(mpd_chunk.read())['playlists']:\n",
    "            a, b, c, d, e = parse_playlist(playlist)\n",
    "            playlists.append(b)\n",
    "            tracks.update(set(b))\n",
    "            tracks_to_artists.update(c)\n",
    "            tracks_to_albums.update(d)\n",
    "            albums_to_artists.update(e)\n",
    "\n",
    "print(f'Got: {len(playlists):,} playlists; {len(tracks):,} tracks; {len({x[1] for x in tracks_to_albums}):,} albums; {len({x[1] for x in tracks_to_artists}):,} artists')"
   ]
  },
  {
   "cell_type": "code",
   "execution_count": 7,
   "id": "33a6478c-9602-4e40-ae2f-8eeea8a665ed",
   "metadata": {},
   "outputs": [
    {
     "name": "stderr",
     "output_type": "stream",
     "text": [
      "100%|██████████| 10000/10000 [00:00<00:00, 20488.70it/s]\n",
      "100%|██████████| 10000/10000 [00:00<00:00, 33297.75it/s]"
     ]
    },
    {
     "name": "stdout",
     "output_type": "stream",
     "text": [
      "train dataset: 9,000; test dataset: 1,000\n"
     ]
    },
    {
     "name": "stderr",
     "output_type": "stream",
     "text": [
      "\n"
     ]
    }
   ],
   "source": [
    "# w zbiorze testowym chcemy tylko te playlisty, ktorych wszystkie piosenki wystapia takze choc raz w zbiorze treningowym\n",
    "tracks_counter = {}\n",
    "for p in tqdm(playlists):\n",
    "    for t in p:\n",
    "        if t in tracks_counter:\n",
    "            tracks_counter[t] += 1\n",
    "        else:\n",
    "            tracks_counter[t] = 1\n",
    "\n",
    "playlists_with_only_non_unique_tracks = []\n",
    "for i in tqdm(range(len((playlists)))):\n",
    "    p = playlists[i]\n",
    "    if all([tracks_counter[t] > 1 for t in p]):\n",
    "        playlists_with_only_non_unique_tracks.append(i)\n",
    "\n",
    "# zbior testowy to 1/10 wszystkich playlist - czyli 100k, jesli nie używamy samplingu\n",
    "test_playlist_ids = random.sample(playlists_with_only_non_unique_tracks, int(SAMPLING_RATIO*100_000))\n",
    "# zbior treningowy to cala reszta playlist - jest ich duzo, wiec sprobujmy to zrobic wydajnie\n",
    "test_ids_sorted = sorted(test_playlist_ids)\n",
    "test_i = 0\n",
    "train_playlist_ids = []\n",
    "i = 0\n",
    "while i < len(playlists):\n",
    "    if test_i < len(test_ids_sorted) and test_ids_sorted[test_i] == i:\n",
    "        test_i += 1\n",
    "    else:\n",
    "        train_playlist_ids.append(i)\n",
    "    i += 1\n",
    "\n",
    "train_playlists = [playlists[i] for i in train_playlist_ids]\n",
    "test_playlists = [playlists[i] for i in test_playlist_ids]\n",
    "\n",
    "print(f'train dataset: {len(train_playlists):,}; test dataset: {len(test_playlists):,}')"
   ]
  },
  {
   "cell_type": "markdown",
   "id": "c480cce3-90df-4f6e-b781-0c30f6c18c31",
   "metadata": {},
   "source": [
    "## Część 2. - budowa i ewaluacja modelu"
   ]
  },
  {
   "cell_type": "markdown",
   "id": "af5bb789-088e-4d5b-82ac-15116fb31216",
   "metadata": {},
   "source": [
    "### Relacje istniejące w naszym datasecie:\n",
    "![poglądowy obrazek relacji w datasecie](relations.svg)"
   ]
  },
  {
   "cell_type": "code",
   "execution_count": 8,
   "id": "83962cc3-54fd-438d-a7c7-b8a2f3c1b4c5",
   "metadata": {},
   "outputs": [
    {
     "name": "stderr",
     "output_type": "stream",
     "text": [
      "100%|██████████| 175992/175992 [00:00<00:00, 743581.69it/s]\n",
      "100%|██████████| 175992/175992 [00:00<00:00, 1164884.40it/s]\n",
      "100%|██████████| 88378/88378 [00:00<00:00, 1113182.48it/s]\n",
      "100%|██████████| 9000/9000 [00:00<00:00, 33386.17it/s]"
     ]
    },
    {
     "name": "stdout",
     "output_type": "stream",
     "text": [
      "Got 4 relations with total of 1,064,566 entries\n"
     ]
    },
    {
     "name": "stderr",
     "output_type": "stream",
     "text": [
      "\n"
     ]
    }
   ],
   "source": [
    "# budowanie zbioru relacji\n",
    "# mozesz usunac czesc wpisow z listy `relations`\n",
    "relations = ['follows', 'authored_by', 'in_album', 'authored']\n",
    "triples = []\n",
    "\n",
    "# relacje piosenka -> autor\n",
    "if 'authored_by' in relations:\n",
    "    for track, artist in tqdm(tracks_to_artists):\n",
    "        triples.append((track, 'authored_by', artist))\n",
    "\n",
    "# relacje piosenka -> artysta\n",
    "if 'in_album' in relations:\n",
    "    for track, album in tqdm(tracks_to_albums):\n",
    "        triples.append((track, 'in_album', album))\n",
    "\n",
    "# relacje artysta -> album\n",
    "if 'authored' in relations:\n",
    "    for album, artist in tqdm(albums_to_artists):\n",
    "        triples.append((artist, 'authored', album))\n",
    "\n",
    "# relacje piosenka -> piosenka\n",
    "if 'follows' in relations:\n",
    "    for playlist in tqdm(train_playlists):\n",
    "        for i in range(len(playlist)-1):\n",
    "            triples.append((playlist[i], 'follows', playlist[i+1]))\n",
    "\n",
    "num_entities = len(triples)\n",
    "num_relations = len(relations)\n",
    "\n",
    "print(f'Got {num_relations} relations with total of {num_entities:,} entries')"
   ]
  },
  {
   "cell_type": "code",
   "execution_count": 9,
   "id": "64a2042a-3165-4177-af82-2cb1586c8eb1",
   "metadata": {},
   "outputs": [
    {
     "name": "stderr",
     "output_type": "stream",
     "text": [
      "using automatically assigned random_state=2164295452\n",
      "No random seed is specified. Setting to 3747793699.\n"
     ]
    },
    {
     "data": {
      "application/vnd.jupyter.widget-view+json": {
       "model_id": "433d7bd33ef243a7a5f76223bed0c6e2",
       "version_major": 2,
       "version_minor": 0
      },
      "text/plain": [
       "Training epochs on cuda:0:   0%|          | 0/20 [00:00<?, ?epoch/s]"
      ]
     },
     "metadata": {},
     "output_type": "display_data"
    },
    {
     "data": {
      "application/vnd.jupyter.widget-view+json": {
       "model_id": "b7c620fdeea44a6492a07fd9aa6e3d7c",
       "version_major": 2,
       "version_minor": 0
      },
      "text/plain": [
       "Training batches on cuda:0:   0%|          | 0/62 [00:00<?, ?batch/s]"
      ]
     },
     "metadata": {},
     "output_type": "display_data"
    },
    {
     "data": {
      "application/vnd.jupyter.widget-view+json": {
       "model_id": "0b8049871d234869838a847fd4874092",
       "version_major": 2,
       "version_minor": 0
      },
      "text/plain": [
       "Training batches on cuda:0:   0%|          | 0/62 [00:00<?, ?batch/s]"
      ]
     },
     "metadata": {},
     "output_type": "display_data"
    },
    {
     "data": {
      "application/vnd.jupyter.widget-view+json": {
       "model_id": "197c17f3461d4beda44e4ea4a2984543",
       "version_major": 2,
       "version_minor": 0
      },
      "text/plain": [
       "Training batches on cuda:0:   0%|          | 0/62 [00:00<?, ?batch/s]"
      ]
     },
     "metadata": {},
     "output_type": "display_data"
    },
    {
     "data": {
      "application/vnd.jupyter.widget-view+json": {
       "model_id": "3b915df3b0694c5f82541396886c58e5",
       "version_major": 2,
       "version_minor": 0
      },
      "text/plain": [
       "Training batches on cuda:0:   0%|          | 0/62 [00:00<?, ?batch/s]"
      ]
     },
     "metadata": {},
     "output_type": "display_data"
    },
    {
     "data": {
      "application/vnd.jupyter.widget-view+json": {
       "model_id": "bcdb1ded47f746da950208d9c76f6bab",
       "version_major": 2,
       "version_minor": 0
      },
      "text/plain": [
       "Training batches on cuda:0:   0%|          | 0/62 [00:00<?, ?batch/s]"
      ]
     },
     "metadata": {},
     "output_type": "display_data"
    },
    {
     "data": {
      "application/vnd.jupyter.widget-view+json": {
       "model_id": "03e3bb8e6cd24d51b40873b2ef125d8d",
       "version_major": 2,
       "version_minor": 0
      },
      "text/plain": [
       "Training batches on cuda:0:   0%|          | 0/62 [00:00<?, ?batch/s]"
      ]
     },
     "metadata": {},
     "output_type": "display_data"
    },
    {
     "data": {
      "application/vnd.jupyter.widget-view+json": {
       "model_id": "f4524757739b4925be2814a3da988145",
       "version_major": 2,
       "version_minor": 0
      },
      "text/plain": [
       "Training batches on cuda:0:   0%|          | 0/62 [00:00<?, ?batch/s]"
      ]
     },
     "metadata": {},
     "output_type": "display_data"
    },
    {
     "data": {
      "application/vnd.jupyter.widget-view+json": {
       "model_id": "89a0d63d63094146ae0fd8697d0b3f6c",
       "version_major": 2,
       "version_minor": 0
      },
      "text/plain": [
       "Training batches on cuda:0:   0%|          | 0/62 [00:00<?, ?batch/s]"
      ]
     },
     "metadata": {},
     "output_type": "display_data"
    },
    {
     "data": {
      "application/vnd.jupyter.widget-view+json": {
       "model_id": "4a004208c3734516a58bf6a9de33d8fa",
       "version_major": 2,
       "version_minor": 0
      },
      "text/plain": [
       "Training batches on cuda:0:   0%|          | 0/62 [00:00<?, ?batch/s]"
      ]
     },
     "metadata": {},
     "output_type": "display_data"
    },
    {
     "data": {
      "application/vnd.jupyter.widget-view+json": {
       "model_id": "8a29225161bb473b848f9bd02cb63497",
       "version_major": 2,
       "version_minor": 0
      },
      "text/plain": [
       "Training batches on cuda:0:   0%|          | 0/62 [00:00<?, ?batch/s]"
      ]
     },
     "metadata": {},
     "output_type": "display_data"
    },
    {
     "data": {
      "application/vnd.jupyter.widget-view+json": {
       "model_id": "c06a3fc38c0c4bd2ba51176763cdf228",
       "version_major": 2,
       "version_minor": 0
      },
      "text/plain": [
       "Training batches on cuda:0:   0%|          | 0/62 [00:00<?, ?batch/s]"
      ]
     },
     "metadata": {},
     "output_type": "display_data"
    },
    {
     "data": {
      "application/vnd.jupyter.widget-view+json": {
       "model_id": "554ed79f704f4f939f3f4272e79d3432",
       "version_major": 2,
       "version_minor": 0
      },
      "text/plain": [
       "Training batches on cuda:0:   0%|          | 0/62 [00:00<?, ?batch/s]"
      ]
     },
     "metadata": {},
     "output_type": "display_data"
    },
    {
     "data": {
      "application/vnd.jupyter.widget-view+json": {
       "model_id": "3a587fd289164895958f9a11feb2eca8",
       "version_major": 2,
       "version_minor": 0
      },
      "text/plain": [
       "Training batches on cuda:0:   0%|          | 0/62 [00:00<?, ?batch/s]"
      ]
     },
     "metadata": {},
     "output_type": "display_data"
    },
    {
     "data": {
      "application/vnd.jupyter.widget-view+json": {
       "model_id": "9e98eb1fe38248a7ae1ca04ab02cab9e",
       "version_major": 2,
       "version_minor": 0
      },
      "text/plain": [
       "Training batches on cuda:0:   0%|          | 0/62 [00:00<?, ?batch/s]"
      ]
     },
     "metadata": {},
     "output_type": "display_data"
    },
    {
     "data": {
      "application/vnd.jupyter.widget-view+json": {
       "model_id": "ccbea673254d47cbbf458d8fb1facdcb",
       "version_major": 2,
       "version_minor": 0
      },
      "text/plain": [
       "Training batches on cuda:0:   0%|          | 0/62 [00:00<?, ?batch/s]"
      ]
     },
     "metadata": {},
     "output_type": "display_data"
    },
    {
     "data": {
      "application/vnd.jupyter.widget-view+json": {
       "model_id": "4fce327fbf874de6aeb45b5cd7e547d2",
       "version_major": 2,
       "version_minor": 0
      },
      "text/plain": [
       "Training batches on cuda:0:   0%|          | 0/62 [00:00<?, ?batch/s]"
      ]
     },
     "metadata": {},
     "output_type": "display_data"
    },
    {
     "data": {
      "application/vnd.jupyter.widget-view+json": {
       "model_id": "09a82c4f5b6f4c738ff013e6073cebb8",
       "version_major": 2,
       "version_minor": 0
      },
      "text/plain": [
       "Training batches on cuda:0:   0%|          | 0/62 [00:00<?, ?batch/s]"
      ]
     },
     "metadata": {},
     "output_type": "display_data"
    },
    {
     "data": {
      "application/vnd.jupyter.widget-view+json": {
       "model_id": "42dddeb6afaa4fa5b88cd35aa809d22b",
       "version_major": 2,
       "version_minor": 0
      },
      "text/plain": [
       "Training batches on cuda:0:   0%|          | 0/62 [00:00<?, ?batch/s]"
      ]
     },
     "metadata": {},
     "output_type": "display_data"
    },
    {
     "data": {
      "application/vnd.jupyter.widget-view+json": {
       "model_id": "c15c8f5d28a24f018e433d150003faea",
       "version_major": 2,
       "version_minor": 0
      },
      "text/plain": [
       "Training batches on cuda:0:   0%|          | 0/62 [00:00<?, ?batch/s]"
      ]
     },
     "metadata": {},
     "output_type": "display_data"
    },
    {
     "data": {
      "application/vnd.jupyter.widget-view+json": {
       "model_id": "93428337f6ac4698b1b1c119f6b2038d",
       "version_major": 2,
       "version_minor": 0
      },
      "text/plain": [
       "Training batches on cuda:0:   0%|          | 0/62 [00:00<?, ?batch/s]"
      ]
     },
     "metadata": {},
     "output_type": "display_data"
    },
    {
     "data": {
      "application/vnd.jupyter.widget-view+json": {
       "model_id": "5ad930f7a4d941449e1580cba10038e9",
       "version_major": 2,
       "version_minor": 0
      },
      "text/plain": [
       "Evaluating on cuda:0:   0%|          | 0.00/101 [00:00<?, ?triple/s]"
      ]
     },
     "metadata": {},
     "output_type": "display_data"
    },
    {
     "name": "stderr",
     "output_type": "stream",
     "text": [
      "INFO:pykeen.evaluation.evaluator:Evaluation took 12.09s seconds\n"
     ]
    }
   ],
   "source": [
    "# trening\n",
    "tf = TriplesFactory.from_labeled_triples(np.array(triples))\n",
    "# ta dysproporcja jest po to, by szybko uzyskac jakikolwiek wynik\n",
    "#   - dla uzyskania sensownych wynikow warto zmienic split na np. standardowe 80-10-10\n",
    "training, testing, validation = tf.split([.9998, .0001, .0001])\n",
    "\n",
    "pipeline_result = pipeline(\n",
    "    training=training,\n",
    "    testing=testing,\n",
    "    validation=validation,\n",
    "    model=TransR, # to najszybszy i najprostszy, ale i najgorszy model; pomysl o uzyciu TransH, TransR, RESCAL albo dowolnego innego\n",
    "    epochs=30, # to zdecydowanie za malo - 1 wystarczy do jakichkolwiek wynikow, 5 do dosc slabych, blizej 20 do sensownych\n",
    "    training_kwargs={\"batch_size\":2**14},\n",
    "    evaluation_kwargs={\"batch_size\":16},\n",
    "    device=\"cuda\"\n",
    ")"
   ]
  },
  {
   "cell_type": "code",
   "execution_count": 10,
   "id": "d50bf67a-f449-4296-91e5-cadad5d4990c",
   "metadata": {},
   "outputs": [
    {
     "data": {
      "text/plain": [
       "<Axes: title={'center': 'Losses Plot'}, xlabel='Epoch', ylabel='marginranking Loss'>"
      ]
     },
     "execution_count": 10,
     "metadata": {},
     "output_type": "execute_result"
    },
    {
     "data": {
      "image/png": "[encoded data removed]",
      "text/plain": [
       "<Figure size 432x288 with 1 Axes>"
      ]
     },
     "metadata": {
      "needs_background": "light"
     },
     "output_type": "display_data"
    }
   ],
   "source": [
    "# zgrubne oszacowanie jakosci wytrenowanego modelu\n",
    "pipeline_result.plot_losses()"
   ]
  },
  {
   "cell_type": "code",
   "execution_count": 11,
   "metadata": {},
   "outputs": [],
   "source": [
    "model = pipeline_result.model"
   ]
  },
  {
   "cell_type": "code",
   "execution_count": 12,
   "id": "37eaf5f3-8083-4284-8156-4f8326671050",
   "metadata": {},
   "outputs": [
    {
     "data": {
      "text/plain": [
       "['0lMwsRjgzmEhiv3anRRl7q',\n",
       " '1mKXFLRA179hdOWQBwUk9e',\n",
       " '0lMwsRjgzmEhiv3anRRl7q',\n",
       " '1mKXFLRA179hdOWQBwUk9e',\n",
       " '0lMwsRjgzmEhiv3anRRl7q',\n",
       " '1mKXFLRA179hdOWQBwUk9e',\n",
       " '0lMwsRjgzmEhiv3anRRl7q',\n",
       " '1mKXFLRA179hdOWQBwUk9e',\n",
       " '0lMwsRjgzmEhiv3anRRl7q',\n",
       " '1mKXFLRA179hdOWQBwUk9e']"
      ]
     },
     "execution_count": 12,
     "metadata": {},
     "output_type": "execute_result"
    }
   ],
   "source": [
    "# funkcja zwracajaca predykcje z modelu\n",
    "from typing import List\n",
    "import torch\n",
    "def predict_next_tracks(model, track_id: str, k: int) -> List[str]:\n",
    "    next_tracks = []\n",
    "    for _ in range(k):\n",
    "        batch = torch.tensor([(tf.entity_to_id[track_id], tf.relation_to_id['follows'])])\n",
    "        _, indicies = torch.topk(model.predict_t(batch), k=2)\n",
    "        next_track = tf.entity_id_to_label[indicies[0][1].item()]\n",
    "        next_tracks.append(next_track)\n",
    "        track_id = next_track\n",
    "\n",
    "    return next_tracks\n",
    "\n",
    "\n",
    "predict_next_tracks(model, train_playlists[42][2], 10)"
   ]
  },
  {
   "cell_type": "code",
   "execution_count": 13,
   "id": "0a83eba4-2e1e-4bec-be87-8063ed71ed58",
   "metadata": {},
   "outputs": [],
   "source": [
    "# metryki do porownania rekomenderow - precision@k i recall@k\n",
    "def precision(prediction: List[str], actual_tracks: List[str]) -> float:\n",
    "    count = 0\n",
    "\n",
    "    for predicated_track in prediction:\n",
    "        if predicated_track in actual_tracks:\n",
    "            count += 1\n",
    "    \n",
    "    return count / len(prediction)\n",
    "\n",
    "def recall(prediction: List[str], actual_tracks: List[str]) -> float:\n",
    "    count = 0\n",
    "\n",
    "    for predicated_track in prediction:\n",
    "        if predicated_track in actual_tracks:\n",
    "            count += 1\n",
    "    \n",
    "    return count / len(actual_tracks)"
   ]
  },
  {
   "cell_type": "code",
   "execution_count": 15,
   "id": "d39cbf2e-e686-45d0-a8cd-5343132b2ba0",
   "metadata": {},
   "outputs": [
    {
     "name": "stdout",
     "output_type": "stream",
     "text": [
      "912\n",
      "0\n",
      "100\n",
      "200\n",
      "300\n",
      "400\n",
      "500\n",
      "600\n",
      "700\n",
      "800\n",
      "900\n"
     ]
    },
    {
     "data": {
      "image/png": "[encoded data removed]",
      "text/plain": [
       "<Figure size 432x288 with 2 Axes>"
      ]
     },
     "metadata": {
      "needs_background": "light"
     },
     "output_type": "display_data"
    }
   ],
   "source": [
    "# ocena wynikow\n",
    "\n",
    "# odsiewamy playlisty zbyt krotkie, by dac sensowne wyniki\n",
    "long_enough_test_playlists = [p for p in test_playlists if len(p) >= 10]\n",
    "print(len(long_enough_test_playlists))\n",
    "# z kazdej playlisty, elementy od 0 do `cutoff_idx` wlacznie sa dane, na ich podstawie robimy predykcje\n",
    "# elementy od cutoff_idx+1 do konca powinnismy umiec przewidziec\n",
    "cutoff_idx = 4\n",
    "# ile elementow ma przewidziec nasz model\n",
    "k = 20\n",
    "precisions: List[float] = []\n",
    "recalls: List[float] = []\n",
    "for idx, playlist in enumerate(long_enough_test_playlists):\n",
    "    if idx % 100 ==0: print(idx)\n",
    "    prediction = predict_next_tracks(model, playlist[cutoff_idx], k)\n",
    "    precisions.append(precision(prediction, playlist))\n",
    "    recalls.append(recall(prediction, playlist))\n",
    "\n",
    "# histogram z wynikami\n",
    "fig, (ax1, ax2) = plt.subplots(1, 2)\n",
    "ax1.hist(precisions, bins=20)\n",
    "ax1.set_title('Precision')\n",
    "ax2.hist(recalls, bins=20)\n",
    "ax2.set_title('Recall')\n",
    "plt.show()"
   ]
  },
  {
   "cell_type": "markdown",
   "id": "ca5d83b9-de72-4fc0-8bfe-7acb6c66f62f",
   "metadata": {},
   "source": [
    "## Część 3. - porównanie różnych metod rekomendacji"
   ]
  },
  {
   "cell_type": "markdown",
   "id": "a3e87e7c-b9fb-430d-86cb-14433ddd4287",
   "metadata": {},
   "source": [
    "W części 2. zbudowaliśmy zbiór trójek relacji, wytrenowaliśmy jeden model, zaimplementowaliśmy (prostą) metodę generującą rekomendacje na podstawie predykcji modelu i w końcu zaimplementowaliśmy dwie metryki do porównania jakości tych rekomendacji.\n",
    "\n",
    "W części 3. Twoim zadaniem jest przetestować trzy różne podejścia do jednego z kroków:\n",
    "1. Porównaj trzy różne modele spośród dostępnych w bibliotece PyKeen: https://pykeen.readthedocs.io/en/stable/reference/models.html#classes\n",
    "   * jeden model translacyjny (np. TransE, TransH, TransR)\n",
    "   * jeden model faktoryzacyjny (np. RESCAL)\n",
    "   * jeden dowolny model niewybrany w poprzednich punktach\n",
    "2. Porównaj trzy metody budowania grafu wiedzy:\n",
    "   * graf zawierający relacje wszystkich czterech typów\n",
    "   * graf zawierający tylko relacje typu `follows` (czyli między kolejnymi utworami w playliście)\n",
    "   * graf zawierający relacje wybranych przez Ciebie dwóch lub trzech typów (czyli krok pośredni między powyższymi punktami)\n",
    "3. Porównaj trzy metody generowania rekomendacji na podstawie elementów zwróconych przez `predict_target()` (ta metoda zwraca m. in. score'y każdego z proponowanych elementów, co może okazać się pomocne):\n",
    "   * metoda opierająca się tylko na predykcji dla ostatniego znanego elementu w playliście\n",
    "   * dwie wymyślone przez Ciebie, bardziej zaawansowane metody\n",
    "  \n",
    "Niezależnie od tego, który z trzech powyższych scenariuszy wybierzesz - porównaj trzy wybrane przez Ciebie metody na podstawie histogramów metryk `precision@k` i `recall@k`."
   ]
  },
  {
   "cell_type": "code",
   "execution_count": 17,
   "id": "87e81534-66a5-4a81-a974-90b6496dffb5",
   "metadata": {},
   "outputs": [
    {
     "name": "stderr",
     "output_type": "stream",
     "text": [
      "WARNING:pykeen.pipeline.api:No random seed is specified. Setting to 4217821200.\n",
      "INFO:pykeen.pipeline.api:Using device: cuda\n"
     ]
    },
    {
     "name": "stdout",
     "output_type": "stream",
     "text": [
      "Training RESCAL\n"
     ]
    },
    {
     "data": {
      "application/vnd.jupyter.widget-view+json": {
       "model_id": "14d31789426847a7a75a7b877bb28401",
       "version_major": 2,
       "version_minor": 0
      },
      "text/plain": [
       "Training epochs on cuda:0:   0%|          | 0/30 [00:00<?, ?epoch/s]"
      ]
     },
     "metadata": {},
     "output_type": "display_data"
    },
    {
     "data": {
      "application/vnd.jupyter.widget-view+json": {
       "model_id": "1fdcb93e009d4e328fb443b8a0c3249a",
       "version_major": 2,
       "version_minor": 0
      },
      "text/plain": [
       "Training batches on cuda:0:   0%|          | 0/62 [00:00<?, ?batch/s]"
      ]
     },
     "metadata": {},
     "output_type": "display_data"
    },
    {
     "ename": "KeyboardInterrupt",
     "evalue": "",
     "output_type": "error",
     "traceback": [
      "\u001b[0;31m---------------------------------------------------------------------------\u001b[0m",
      "\u001b[0;31mKeyboardInterrupt\u001b[0m                         Traceback (most recent call last)",
      "\u001b[0;32m/tmp/ipykernel_669648/3319138365.py\u001b[0m in \u001b[0;36m<module>\u001b[0;34m\u001b[0m\n\u001b[1;32m     11\u001b[0m \u001b[0mprint\u001b[0m\u001b[0;34m(\u001b[0m\u001b[0;34m\"Training RESCAL\"\u001b[0m\u001b[0;34m)\u001b[0m\u001b[0;34m\u001b[0m\u001b[0;34m\u001b[0m\u001b[0m\n\u001b[1;32m     12\u001b[0m \u001b[0;34m\u001b[0m\u001b[0m\n\u001b[0;32m---> 13\u001b[0;31m pipeline_rescal = pipeline(\n\u001b[0m\u001b[1;32m     14\u001b[0m     \u001b[0mtraining\u001b[0m\u001b[0;34m=\u001b[0m\u001b[0mtraining\u001b[0m\u001b[0;34m,\u001b[0m\u001b[0;34m\u001b[0m\u001b[0;34m\u001b[0m\u001b[0m\n\u001b[1;32m     15\u001b[0m     \u001b[0mtesting\u001b[0m\u001b[0;34m=\u001b[0m\u001b[0mtesting\u001b[0m\u001b[0;34m,\u001b[0m\u001b[0;34m\u001b[0m\u001b[0;34m\u001b[0m\u001b[0m\n",
      "\u001b[0;32m~/.local/lib/python3.8/site-packages/pykeen/pipeline/api.py\u001b[0m in \u001b[0;36mpipeline\u001b[0;34m(dataset, dataset_kwargs, training, testing, validation, evaluation_entity_whitelist, evaluation_relation_whitelist, model, model_kwargs, interaction, interaction_kwargs, dimensions, loss, loss_kwargs, regularizer, regularizer_kwargs, optimizer, optimizer_kwargs, clear_optimizer, lr_scheduler, lr_scheduler_kwargs, training_loop, training_loop_kwargs, negative_sampler, negative_sampler_kwargs, epochs, training_kwargs, stopper, stopper_kwargs, evaluator, evaluator_kwargs, evaluation_kwargs, result_tracker, result_tracker_kwargs, metadata, device, random_seed, use_testing_data, evaluation_fallback, filter_validation_when_testing, use_tqdm)\u001b[0m\n\u001b[1;32m   1544\u001b[0m     )\n\u001b[1;32m   1545\u001b[0m \u001b[0;34m\u001b[0m\u001b[0m\n\u001b[0;32m-> 1546\u001b[0;31m     stopper_instance, configuration, losses, train_seconds = _handle_training(\n\u001b[0m\u001b[1;32m   1547\u001b[0m         \u001b[0m_result_tracker\u001b[0m\u001b[0;34m=\u001b[0m\u001b[0m_result_tracker\u001b[0m\u001b[0;34m,\u001b[0m\u001b[0;34m\u001b[0m\u001b[0;34m\u001b[0m\u001b[0m\n\u001b[1;32m   1548\u001b[0m         \u001b[0mtraining\u001b[0m\u001b[0;34m=\u001b[0m\u001b[0mtraining\u001b[0m\u001b[0;34m,\u001b[0m\u001b[0;34m\u001b[0m\u001b[0;34m\u001b[0m\u001b[0m\n",
      "\u001b[0;32m~/.local/lib/python3.8/site-packages/pykeen/pipeline/api.py\u001b[0m in \u001b[0;36m_handle_training\u001b[0;34m(_result_tracker, training, validation, model_instance, evaluator_instance, training_loop_instance, clear_optimizer, evaluation_kwargs, epochs, training_kwargs, stopper, stopper_kwargs, use_tqdm)\u001b[0m\n\u001b[1;32m   1188\u001b[0m     \u001b[0;31m# Train like Cristiano Ronaldo\u001b[0m\u001b[0;34m\u001b[0m\u001b[0;34m\u001b[0m\u001b[0;34m\u001b[0m\u001b[0m\n\u001b[1;32m   1189\u001b[0m     \u001b[0mtraining_start_time\u001b[0m \u001b[0;34m=\u001b[0m \u001b[0mtime\u001b[0m\u001b[0;34m.\u001b[0m\u001b[0mtime\u001b[0m\u001b[0;34m(\u001b[0m\u001b[0;34m)\u001b[0m\u001b[0;34m\u001b[0m\u001b[0;34m\u001b[0m\u001b[0m\n\u001b[0;32m-> 1190\u001b[0;31m     losses = training_loop_instance.train(\n\u001b[0m\u001b[1;32m   1191\u001b[0m         \u001b[0mtriples_factory\u001b[0m\u001b[0;34m=\u001b[0m\u001b[0mtraining\u001b[0m\u001b[0;34m,\u001b[0m\u001b[0;34m\u001b[0m\u001b[0;34m\u001b[0m\u001b[0m\n\u001b[1;32m   1192\u001b[0m         \u001b[0mstopper\u001b[0m\u001b[0;34m=\u001b[0m\u001b[0mstopper_instance\u001b[0m\u001b[0;34m,\u001b[0m\u001b[0;34m\u001b[0m\u001b[0;34m\u001b[0m\u001b[0m\n",
      "\u001b[0;32m~/.local/lib/python3.8/site-packages/pykeen/training/training_loop.py\u001b[0m in \u001b[0;36mtrain\u001b[0;34m(self, triples_factory, num_epochs, batch_size, slice_size, label_smoothing, sampler, continue_training, only_size_probing, use_tqdm, use_tqdm_batch, tqdm_kwargs, stopper, sub_batch_size, num_workers, clear_optimizer, checkpoint_directory, checkpoint_name, checkpoint_frequency, checkpoint_on_failure, drop_last, callbacks, callback_kwargs, gradient_clipping_max_norm, gradient_clipping_norm_type, gradient_clipping_max_abs_value, pin_memory)\u001b[0m\n\u001b[1;32m    376\u001b[0m             \u001b[0;31m# send model to device before going into the internal training loop\u001b[0m\u001b[0;34m\u001b[0m\u001b[0;34m\u001b[0m\u001b[0;34m\u001b[0m\u001b[0m\n\u001b[1;32m    377\u001b[0m             \u001b[0mself\u001b[0m\u001b[0;34m.\u001b[0m\u001b[0mmodel\u001b[0m \u001b[0;34m=\u001b[0m \u001b[0mself\u001b[0m\u001b[0;34m.\u001b[0m\u001b[0mmodel\u001b[0m\u001b[0;34m.\u001b[0m\u001b[0mto\u001b[0m\u001b[0;34m(\u001b[0m\u001b[0mget_preferred_device\u001b[0m\u001b[0;34m(\u001b[0m\u001b[0mself\u001b[0m\u001b[0;34m.\u001b[0m\u001b[0mmodel\u001b[0m\u001b[0;34m,\u001b[0m \u001b[0mallow_ambiguity\u001b[0m\u001b[0;34m=\u001b[0m\u001b[0;32mTrue\u001b[0m\u001b[0;34m)\u001b[0m\u001b[0;34m)\u001b[0m\u001b[0;34m\u001b[0m\u001b[0;34m\u001b[0m\u001b[0m\n\u001b[0;32m--> 378\u001b[0;31m             result = self._train(\n\u001b[0m\u001b[1;32m    379\u001b[0m                 \u001b[0mnum_epochs\u001b[0m\u001b[0;34m=\u001b[0m\u001b[0mnum_epochs\u001b[0m\u001b[0;34m,\u001b[0m\u001b[0;34m\u001b[0m\u001b[0;34m\u001b[0m\u001b[0m\n\u001b[1;32m    380\u001b[0m                 \u001b[0mbatch_size\u001b[0m\u001b[0;34m=\u001b[0m\u001b[0mbatch_size\u001b[0m\u001b[0;34m,\u001b[0m\u001b[0;34m\u001b[0m\u001b[0;34m\u001b[0m\u001b[0m\n",
      "\u001b[0;32m~/.local/lib/python3.8/site-packages/pykeen/training/training_loop.py\u001b[0m in \u001b[0;36m_train\u001b[0;34m(self, triples_factory, num_epochs, batch_size, slice_size, label_smoothing, sampler, continue_training, only_size_probing, use_tqdm, use_tqdm_batch, tqdm_kwargs, stopper, sub_batch_size, num_workers, save_checkpoints, checkpoint_path, checkpoint_frequency, checkpoint_on_failure_file_path, best_epoch_model_file_path, last_best_epoch, drop_last, callbacks, callback_kwargs, gradient_clipping_max_norm, gradient_clipping_norm_type, gradient_clipping_max_abs_value, pin_memory)\u001b[0m\n\u001b[1;32m    641\u001b[0m \u001b[0;34m\u001b[0m\u001b[0m\n\u001b[1;32m    642\u001b[0m                         \u001b[0;31m# forward pass call\u001b[0m\u001b[0;34m\u001b[0m\u001b[0;34m\u001b[0m\u001b[0;34m\u001b[0m\u001b[0m\n\u001b[0;32m--> 643\u001b[0;31m                         batch_loss = self._forward_pass(\n\u001b[0m\u001b[1;32m    644\u001b[0m                             \u001b[0mbatch\u001b[0m\u001b[0;34m,\u001b[0m\u001b[0;34m\u001b[0m\u001b[0;34m\u001b[0m\u001b[0m\n\u001b[1;32m    645\u001b[0m                             \u001b[0mstart\u001b[0m\u001b[0;34m,\u001b[0m\u001b[0;34m\u001b[0m\u001b[0;34m\u001b[0m\u001b[0m\n",
      "\u001b[0;32m~/.local/lib/python3.8/site-packages/pykeen/training/training_loop.py\u001b[0m in \u001b[0;36m_forward_pass\u001b[0;34m(self, batch, start, stop, current_batch_size, label_smoothing, slice_size)\u001b[0m\n\u001b[1;32m    827\u001b[0m         \u001b[0;31m# backward pass\u001b[0m\u001b[0;34m\u001b[0m\u001b[0;34m\u001b[0m\u001b[0;34m\u001b[0m\u001b[0m\n\u001b[1;32m    828\u001b[0m         \u001b[0mloss\u001b[0m\u001b[0;34m.\u001b[0m\u001b[0mbackward\u001b[0m\u001b[0;34m(\u001b[0m\u001b[0;34m)\u001b[0m\u001b[0;34m\u001b[0m\u001b[0;34m\u001b[0m\u001b[0m\n\u001b[0;32m--> 829\u001b[0;31m         \u001b[0mcurrent_epoch_loss\u001b[0m \u001b[0;34m=\u001b[0m \u001b[0mloss\u001b[0m\u001b[0;34m.\u001b[0m\u001b[0mitem\u001b[0m\u001b[0;34m(\u001b[0m\u001b[0;34m)\u001b[0m\u001b[0;34m\u001b[0m\u001b[0;34m\u001b[0m\u001b[0m\n\u001b[0m\u001b[1;32m    830\u001b[0m \u001b[0;34m\u001b[0m\u001b[0m\n\u001b[1;32m    831\u001b[0m         \u001b[0mself\u001b[0m\u001b[0;34m.\u001b[0m\u001b[0mmodel\u001b[0m\u001b[0;34m.\u001b[0m\u001b[0mpost_forward_pass\u001b[0m\u001b[0;34m(\u001b[0m\u001b[0;34m)\u001b[0m\u001b[0;34m\u001b[0m\u001b[0;34m\u001b[0m\u001b[0m\n",
      "\u001b[0;31mKeyboardInterrupt\u001b[0m: "
     ]
    },
    {
     "data": {
      "image/png": "[encoded data removed]",
      "text/plain": [
       "<Figure size 1440x2160 with 6 Axes>"
      ]
     },
     "metadata": {
      "needs_background": "light"
     },
     "output_type": "display_data"
    }
   ],
   "source": [
    "fig, axs = plt.subplots(3, 2)\n",
    "fig.set_size_inches(20, 30)\n",
    "\n",
    "pipeline_transE = pipeline_result\n",
    "\n",
    "axs[0][0].hist(precisions, bins=20)\n",
    "axs[0][0].set_title('Precision TransE')\n",
    "axs[0][1].hist(recalls, bins=20)\n",
    "axs[0][1].set_title('Recall TransE')\n",
    "\n",
    "print(\"Training RESCAL\")\n",
    "\n",
    "pipeline_rescal = pipeline(\n",
    "    training=training,\n",
    "    testing=testing,\n",
    "    validation=validation,\n",
    "    model=RESCAL,\n",
    "    epochs=30,\n",
    "    training_kwargs={\"batch_size\":2**14},\n",
    "    device=\"cuda\",\n",
    ")\n",
    "\n",
    "model = pipeline_rescal.model\n",
    "\n",
    "print(\"Evaluting RESCAL\")\n",
    "\n",
    "precisions: List[float] = []\n",
    "recalls: List[float] = []\n",
    "for idx, playlist in enumerate(long_enough_test_playlists):\n",
    "    if idx % 100 ==0: print(idx)\n",
    "    prediction = predict_next_tracks(model, playlist[cutoff_idx], k)\n",
    "    precisions.append(precision(prediction, playlist))\n",
    "    recalls.append(recall(prediction, playlist))\n",
    "\n",
    "axs[1][0].hist(precisions, bins=20)\n",
    "axs[1][0].set_title('Precision RESCAL')\n",
    "axs[1][1].hist(recalls, bins=20)\n",
    "axs[1][1].set_title('Recall RESCAL')\n",
    "\n",
    "print(\"Training PairRE\")\n",
    "\n",
    "pipeline_pairRE = pipeline(\n",
    "    training=training,\n",
    "    testing=testing,\n",
    "    validation=validation,\n",
    "    model=PairRE, \n",
    "    epochs=30,\n",
    "    training_kwargs={\"batch_size\":2**14},\n",
    "    device=\"cuda\"\n",
    ")\n",
    "\n",
    "model = pipeline_pairRE.model\n",
    "\n",
    "print(\"Evaluting PairRE\")\n",
    "\n",
    "precisions: List[float] = []\n",
    "recalls: List[float] = []\n",
    "for idx, playlist in enumerate(long_enough_test_playlists):\n",
    "    if idx % 100 ==0: print(idx)\n",
    "    prediction = predict_next_tracks(model, playlist[cutoff_idx], k)\n",
    "    precisions.append(precision(prediction, playlist))\n",
    "    recalls.append(recall(prediction, playlist))\n",
    "\n",
    "axs[2][0].hist(precisions, bins=20)\n",
    "axs[2][0].set_title('Precision PairRE')\n",
    "axs[2][1].hist(recalls, bins=20)\n",
    "axs[2][1].set_title('Recall PairRE')\n",
    "\n",
    "plt.show()"
   ]
  },
  {
   "cell_type": "code",
   "execution_count": null,
   "metadata": {},
   "outputs": [],
   "source": []
  },
  {
   "cell_type": "code",
   "execution_count": 18,
   "metadata": {},
   "outputs": [
    {
     "name": "stdout",
     "output_type": "stream",
     "text": [
      "[main 74f059e] Test push\n",
      " 1 file changed, 7 insertions(+)\n",
      "Enumerating objects: 27, done.\n",
      "Counting objects: 100% (27/27), done.\n",
      "Delta compression using up to 8 threads\n",
      "Compressing objects: 100% (27/27), done.\n",
      "Writing objects: 100% (27/27), 1.89 MiB | 3.00 MiB/s, done.\n",
      "Total 27 (delta 3), reused 0 (delta 0)\n",
      "remote: Resolving deltas: 100% (3/3), done.\u001b[K\n",
      "To github.com:pweglik/rekomendacyjne.git\n",
      " * [new branch]      main -> main\n",
      "Branch 'main' set up to track remote branch 'main' from 'origin'.\n"
     ]
    }
   ],
   "source": [
    "!git add .\n",
    "!git commit -m \"Lab 6 remote push\"\n",
    "!git push -u origin main"
   ]
  },
  {
   "cell_type": "code",
   "execution_count": null,
   "metadata": {},
   "outputs": [],
   "source": []
  }
 ],
 "metadata": {
  "kernelspec": {
   "display_name": "Python 3 (ipykernel)",
   "language": "python",
   "name": "python3"
  },
  "language_info": {
   "codemirror_mode": {
    "name": "ipython",
    "version": 3
   },
   "file_extension": ".py",
   "mimetype": "text/x-python",
   "name": "python",
   "nbconvert_exporter": "python",
   "pygments_lexer": "ipython3",
   "version": "3.8.10"
  }
 },
 "nbformat": 4,
 "nbformat_minor": 5
}
